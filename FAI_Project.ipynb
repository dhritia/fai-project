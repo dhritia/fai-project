{
  "nbformat": 4,
  "nbformat_minor": 0,
  "metadata": {
    "colab": {
      "provenance": [],
      "collapsed_sections": [
        "cFPB9X-kZxyj",
        "l1_tiOGMcvR7",
        "-kuZ6Mtp2Fck"
      ],
      "gpuType": "T4"
    },
    "kernelspec": {
      "name": "python3",
      "display_name": "Python 3"
    },
    "language_info": {
      "name": "python"
    },
    "accelerator": "GPU"
  },
  "cells": [
    {
      "cell_type": "code",
      "execution_count": null,
      "metadata": {
        "id": "h3rindYoRLvC"
      },
      "outputs": [],
      "source": [
        "import numpy as np\n",
        "import pandas as pd\n",
        "from sklearn.metrics import classification_report,confusion_matrix,accuracy_score\n",
        "from keras.models import Sequential\n",
        "import keras\n",
        "from keras.layers import Dense, Embedding, LSTM, SpatialDropout1D, Input, Conv2D, MaxPooling2D, Flatten\n",
        "import nltk\n",
        "nltk.download('stopwords')\n",
        "nltk.download('wordnet')\n",
        "nltk.download('punkt')\n",
        "from sklearn.model_selection import train_test_split\n",
        "from textblob import Word\n",
        "from nltk import tokenize\n",
        "from nltk import pos_tag\n",
        "from nltk.stem import WordNetLemmatizer\n",
        "from nltk.corpus import stopwords\n",
        "from nltk.corpus import wordnet as wn\n",
        "from keras.preprocessing.text import Tokenizer\n",
        "from keras.preprocessing.sequence import pad_sequences\n",
        "from nltk.tokenize import sent_tokenize\n",
        "from nltk.tokenize import word_tokenize\n",
        "import gensim\n",
        "import gensim.downloader as api"
      ]
    },
    {
      "cell_type": "markdown",
      "source": [
        "## Importing data"
      ],
      "metadata": {
        "id": "QmafdkKKG88_"
      }
    },
    {
      "cell_type": "code",
      "source": [
        "from google.colab import drive\n",
        "drive.mount('/content/drive')"
      ],
      "metadata": {
        "colab": {
          "base_uri": "https://localhost:8080/"
        },
        "id": "WdLdjty_fSmp",
        "outputId": "4d4f5719-d56b-4aff-aa08-7df3bf29e88e"
      },
      "execution_count": null,
      "outputs": [
        {
          "output_type": "stream",
          "name": "stdout",
          "text": [
            "Mounted at /content/drive\n"
          ]
        }
      ]
    },
    {
      "cell_type": "markdown",
      "source": [
        "###### Microsoft dataset"
      ],
      "metadata": {
        "id": "z7J3Brd-HX2z"
      }
    },
    {
      "cell_type": "code",
      "source": [
        "ms_train = pd.read_table(\"/content/drive/MyDrive/msr_paraphrase_train.txt\", header=None, names=[\"is_p\", \"c2\", \"c3\", \"text1\", \"text2\", \"c6\"])\n",
        "ms_train = ms_train.drop([\"c2\", \"c3\", \"c6\"], axis = 1)\n",
        "ms_train = ms_train.drop([0])\n",
        "ms_train = ms_train[:2000]\n",
        "ms_train = ms_train.reset_index()\n",
        "ms_test = ms_train[[\"text1\", \"text2\", \"is_p\"]]\n",
        "ms_test = pd.read_table(\"/content/drive/MyDrive/msr_paraphrase_test.txt\", header=None, names=[\"is_p\", \"c2\", \"c3\", \"text1\", \"text2\", \"c6\"])\n",
        "ms_test = ms_test.drop([\"c2\", \"c3\", \"c6\"], axis = 1)\n",
        "ms_test = ms_test.drop([0])\n",
        "ms_test = ms_test.reset_index()\n",
        "ms_test = ms_test[[\"text1\", \"text2\", \"is_p\"]]"
      ],
      "metadata": {
        "id": "sjgOjZYMFW39"
      },
      "execution_count": null,
      "outputs": []
    },
    {
      "cell_type": "markdown",
      "source": [
        "###### Quora dataset"
      ],
      "metadata": {
        "id": "cFPB9X-kZxyj"
      }
    },
    {
      "cell_type": "code",
      "source": [
        "data = pd.read_table(\"/content/drive/MyDrive/quora_duplicate_questions.tsv\", header=0)\n",
        "data = data.drop([\"id\", \"qid1\", \"qid2\"], axis = 1)\n",
        "data = data.rename(columns={\"question1\": \"text1\", \"question2\": \"text2\", \"is_duplicate\": \"is_p\"})\n",
        "data.dropna(inplace=True,axis=0)\n",
        "data.drop_duplicates(inplace=True)\n",
        "q_train, q_test = train_test_split(data, test_size=0.3)\n",
        "q_train = q_train[:2000]"
      ],
      "metadata": {
        "id": "iGwdw15AZxTe"
      },
      "execution_count": null,
      "outputs": []
    },
    {
      "cell_type": "markdown",
      "source": [
        "###### Twitter dataset"
      ],
      "metadata": {
        "id": "l1_tiOGMcvR7"
      }
    },
    {
      "cell_type": "code",
      "source": [
        "twt_train = pd.read_table(\"/content/drive/MyDrive/train.data\", header = None, names=[\"c1\", \"c2\", \"text1\", \"text2\", \"is_p\", \"c6\", \"c7\"])\n",
        "twt_train = twt_train.drop([\"c1\",\"c2\", \"c7\", \"c6\"], axis = 1)\n",
        "twt_test = pd.read_table(\"/content/drive/MyDrive/test.data\", header = None, names=[\"c1\", \"c2\", \"text1\", \"text2\", \"is_p\", \"c6\", \"c7\"])\n",
        "twt_test[\"is_p\"] = twt_test[\"is_p\"].apply(lambda x: 0 if x <= 3 else 1)\n",
        "twt_test = twt_test.drop([\"c1\",\"c2\", \"c7\", \"c6\"], axis = 1)\n",
        "twt_train[\"is_p\"] = twt_train[\"is_p\"].apply(lambda x: 1 if int(x[1]) + int(x[4]) == 5 and int(x[1]) >= 3 else 0)\n",
        "twt_train.drop_duplicates(subset=['text1'], inplace = True)\n",
        "twt_train = twt_train[:2000]"
      ],
      "metadata": {
        "id": "w6rjqWU_cySS"
      },
      "execution_count": null,
      "outputs": []
    },
    {
      "cell_type": "markdown",
      "source": [
        "## Preprocessing"
      ],
      "metadata": {
        "id": "XGGz2zGq2Ma8"
      }
    },
    {
      "cell_type": "markdown",
      "source": [
        "Concatinating the training datasets"
      ],
      "metadata": {
        "id": "kCyUiqdSxinM"
      }
    },
    {
      "cell_type": "code",
      "source": [
        "X = pd.concat([ms_train, q_train, twt_train])\n",
        "X.reset_index(inplace=True)\n",
        "X = X.drop([\"index\"], axis = 1)\n",
        "X = X.drop([\"level_0\"], axis = 1)"
      ],
      "metadata": {
        "id": "dI1WPNQMseFh"
      },
      "execution_count": null,
      "outputs": []
    },
    {
      "cell_type": "code",
      "source": [
        "X2 = pd.concat([ms_train, q_train])\n",
        "X2.reset_index(inplace=True)\n",
        "X2 = X2.drop([\"index\"], axis = 1)\n",
        "X2 = X2.drop([\"level_0\"], axis = 1)"
      ],
      "metadata": {
        "id": "flS98LYDInXk"
      },
      "execution_count": null,
      "outputs": []
    },
    {
      "cell_type": "markdown",
      "source": [
        "Cleaning up the data by removing stop words and lemmatizing the remaining words"
      ],
      "metadata": {
        "id": "pYAKcnHax5zv"
      }
    },
    {
      "cell_type": "code",
      "source": [
        "def cleaning(df, stop_words):\n",
        "    df['text1'] = df['text1'].apply(lambda x: ' '.join(str(x).lower() for x in str(x).split()))\n",
        "    df['text1'] = df['text1'].str.replace('@\"[^0-9a-zA-Z]+\"', '')\n",
        "    df['text1'] = df['text1'].apply(lambda x:' '.join(x for x in x.split() if x not in stop_words))\n",
        "    df['text1'] = df['text1'].apply(lambda x:' '.join([Word(x).lemmatize() for x in x.split()]))\n",
        "    df['text2'] = df['text2'].apply(lambda x: ' '.join(str(x).lower() for x in str(x).split()))\n",
        "    df['text2'] = df['text2'].str.replace('@\"[^0-9a-zA-Z]+\"', '')\n",
        "    df['text2'] = df['text2'].apply(lambda x:' '.join(x for x in x.split() if x not in stop_words))\n",
        "    df['text2'] = df['text2'].apply(lambda x:' '.join([Word(x).lemmatize() for x in x.split()]))\n",
        "    return df\n",
        "stop_words = stopwords.words('english')\n",
        "X = cleaning(X, stop_words)\n",
        "X2 = cleaning(X2, stop_words)\n",
        "ms_test = cleaning(ms_test, stop_words)\n",
        "q_test = cleaning(q_test, stop_words)\n",
        "twt_test = cleaning(twt_test, stop_words)"
      ],
      "metadata": {
        "id": "RHkHA5EZ7b-I"
      },
      "execution_count": null,
      "outputs": []
    },
    {
      "cell_type": "markdown",
      "source": [
        "Tokenize"
      ],
      "metadata": {
        "id": "dYcF_ZAb2OmJ"
      }
    },
    {
      "cell_type": "code",
      "source": [
        "X['text1'] = X['text1'].apply(lambda x: [word for word in word_tokenize(x) if word.isalpha()])\n",
        "X['text2'] = X['text2'].apply(lambda x: [word for word in word_tokenize(x) if word.isalpha()])"
      ],
      "metadata": {
        "id": "yzi55_prUyOY"
      },
      "execution_count": null,
      "outputs": []
    },
    {
      "cell_type": "code",
      "source": [
        "X2['text1'] = X2['text1'].apply(lambda x: [word for word in word_tokenize(x) if word.isalpha()])\n",
        "X2['text2'] = X2['text2'].apply(lambda x: [word for word in word_tokenize(x) if word.isalpha()])"
      ],
      "metadata": {
        "id": "NoWbHXYyIwJe"
      },
      "execution_count": null,
      "outputs": []
    },
    {
      "cell_type": "code",
      "source": [
        "ms_test['text1'] = ms_test['text1'].apply(lambda x: [word for word in word_tokenize(x) if word.isalpha()])\n",
        "ms_test['text2'] = ms_test['text2'].apply(lambda x: [word for word in word_tokenize(x) if word.isalpha()])\n",
        "q_test['text1'] = q_test['text1'].apply(lambda x: [word for word in word_tokenize(x) if word.isalpha()])\n",
        "q_test['text2'] = q_test['text2'].apply(lambda x: [word for word in word_tokenize(x) if word.isalpha()])\n",
        "twt_test['text1'] = twt_test['text1'].apply(lambda x: [word for word in word_tokenize(x) if word.isalpha()])\n",
        "twt_test['text2'] = twt_test['text2'].apply(lambda x: [word for word in word_tokenize(x) if word.isalpha()])\n",
        "ms_test.reset_index(inplace=True)\n",
        "q_test.reset_index(inplace=True)\n",
        "twt_test.reset_index(inplace=True)"
      ],
      "metadata": {
        "id": "kFP6vX3wk-FN"
      },
      "execution_count": null,
      "outputs": []
    },
    {
      "cell_type": "code",
      "source": [
        "q_test = q_test[:1000]"
      ],
      "metadata": {
        "id": "RK0TYLt-JbHl"
      },
      "execution_count": null,
      "outputs": []
    },
    {
      "cell_type": "code",
      "source": [
        "max = 256"
      ],
      "metadata": {
        "id": "CvdOO5azkfSE"
      },
      "execution_count": null,
      "outputs": []
    },
    {
      "cell_type": "markdown",
      "source": [
        "## Wordnet"
      ],
      "metadata": {
        "id": "6547tFzCJbaH"
      }
    },
    {
      "cell_type": "code",
      "source": [
        "def similarity_matrix(df):\n",
        "  sim_matrix = np.zeros((len(df),max,max,1),)\n",
        "  for i in range(len(df)):\n",
        "    for j in range(len(df['text1'][i])):\n",
        "      for k in range(len(df['text2'][i])):\n",
        "          synset1 = wn.synsets(df[\"text1\"][i][j])\n",
        "          synset2 = wn.synsets(df[\"text2\"][i][k])\n",
        "          if len(synset1) > 0 and len(synset2) > 0:\n",
        "            sim_matrix[i][j][k] = wn.wup_similarity(synset1[0], synset2[0]) * 100\n",
        "          else:\n",
        "            if df[\"text1\"][i][j] == df[\"text2\"][i][k]:\n",
        "              sim_matrix[i][j][k] += 100\n",
        "  return sim_matrix\n",
        "X_train = similarity_matrix(X)"
      ],
      "metadata": {
        "id": "2zuO-kCjXUqu"
      },
      "execution_count": null,
      "outputs": []
    },
    {
      "cell_type": "code",
      "source": [
        "ms_test1 = similarity_matrix(ms_test)\n",
        "q_test1 = similarity_matrix(q_test)\n",
        "twt_test1 = similarity_matrix(twt_test[:1000])"
      ],
      "metadata": {
        "id": "rCbI1-gsJRBI"
      },
      "execution_count": null,
      "outputs": []
    },
    {
      "cell_type": "markdown",
      "source": [
        "## GloVe"
      ],
      "metadata": {
        "id": "-kuZ6Mtp2Fck"
      }
    },
    {
      "cell_type": "code",
      "source": [
        "glove_model = api.load(\"glove-twitter-25\")"
      ],
      "metadata": {
        "id": "6I-5Tk-6mg5z",
        "colab": {
          "base_uri": "https://localhost:8080/"
        },
        "outputId": "86133ccd-a827-4860-ec9f-97cf5e0bc0b3"
      },
      "execution_count": null,
      "outputs": [
        {
          "output_type": "stream",
          "name": "stdout",
          "text": [
            "[==================================================] 100.0% 104.8/104.8MB downloaded\n"
          ]
        }
      ]
    },
    {
      "cell_type": "code",
      "source": [
        "def similarity_matrix(df):\n",
        "  sim_matrix = np.zeros((len(df),max,max,1),)\n",
        "  for i in range(len(df)):\n",
        "    for j in range(len(df['text1'][i])):\n",
        "      for k in range(len(df['text2'][i])):\n",
        "        try:\n",
        "          sim_matrix[i][j][k] = glove_model.similarity(df[\"text1\"][i][j], df[\"text2\"][i][k])*100\n",
        "        except:\n",
        "          if df[\"text1\"][i][j] == df[\"text2\"][i][k]:\n",
        "            sim_matrix[i][j][k] = 100\n",
        "          continue\n",
        "  return sim_matrix\n",
        "X_traing = similarity_matrix(X)\n",
        "ms_testg = similarity_matrix(ms_test)\n",
        "q_testg = similarity_matrix(q_test)\n",
        "twt_testg = similarity_matrix(twt_test[:1000])"
      ],
      "metadata": {
        "id": "j4ujDL1G2E5x"
      },
      "execution_count": null,
      "outputs": []
    },
    {
      "cell_type": "markdown",
      "source": [
        "## Model Training"
      ],
      "metadata": {
        "id": "GozI3W3KrlOs"
      }
    },
    {
      "cell_type": "code",
      "source": [
        "model = Sequential()\n",
        "model.add(LSTM(50, input_shape=(256,256), return_sequences = True))\n",
        "model.add(Dense(1,activation='sigmoid'))\n",
        "model.compile(loss = 'binary_crossentropy', optimizer=keras.optimizers.Adagrad(learning_rate=0.01), metrics = ['accuracy'])"
      ],
      "metadata": {
        "id": "d9VpzurLnqhD"
      },
      "execution_count": null,
      "outputs": []
    },
    {
      "cell_type": "code",
      "source": [
        "model4 = Sequential()\n",
        "model4.add(LSTM(50, input_shape=(256,256), return_sequences = True))\n",
        "model4.add(Dense(1,activation='sigmoid'))\n",
        "model4.compile(loss = 'binary_crossentropy', optimizer=keras.optimizers.Adagrad(learning_rate=0.01), metrics = ['accuracy'])"
      ],
      "metadata": {
        "id": "LbV6SaIU4ChV"
      },
      "execution_count": null,
      "outputs": []
    },
    {
      "cell_type": "code",
      "source": [
        "model2 = Sequential()\n",
        "model2.add(Input(shape=(256,256,1)))\n",
        "model2.add(Conv2D(64,kernel_size = (3,3), strides = 2, activation ='relu',padding ='same'))\n",
        "model2.add(MaxPooling2D(pool_size=(2, 2), strides=2, padding=\"same\"))\n",
        "model2.add(Conv2D(128,kernel_size = (3,3), strides = 2, activation ='relu',padding ='same'))\n",
        "model2.add(MaxPooling2D(pool_size=(2, 2), strides=2, padding=\"same\"))\n",
        "model2.add(Conv2D(256,kernel_size = (3,3), strides = 2, activation ='relu',padding ='same'))\n",
        "model2.add(Flatten())\n",
        "model2.add(Dense(256, activation ='relu'))\n",
        "model2.add(Dense(64, activation ='relu'))\n",
        "model2.add(Dense(16, activation ='relu'))\n",
        "model2.add(Dense(1, activation = \"sigmoid\"))\n",
        "model2.compile(loss = 'binary_crossentropy', optimizer='rmsprop', metrics = ['accuracy'])"
      ],
      "metadata": {
        "id": "RiqFKDs8psb0"
      },
      "execution_count": null,
      "outputs": []
    },
    {
      "cell_type": "code",
      "source": [
        "model3 = Sequential()\n",
        "model3.add(Input(shape=(256,256,1)))\n",
        "model3.add(Conv2D(64,kernel_size = (3,3), strides = 2, activation ='relu',padding ='same'))\n",
        "model3.add(MaxPooling2D(pool_size=(2, 2), strides=2, padding=\"same\"))\n",
        "model3.add(Conv2D(128,kernel_size = (3,3), strides = 2, activation ='relu',padding ='same'))\n",
        "model3.add(MaxPooling2D(pool_size=(2, 2), strides=2, padding=\"same\"))\n",
        "model3.add(Conv2D(256,kernel_size = (3,3), strides = 2, activation ='relu',padding ='same'))\n",
        "model3.add(Flatten())\n",
        "model3.add(Dense(256, activation ='relu'))\n",
        "model3.add(Dense(64, activation ='relu'))\n",
        "model3.add(Dense(16, activation ='relu'))\n",
        "model3.add(Dense(1, activation = \"sigmoid\"))\n",
        "model3.compile(loss = 'binary_crossentropy', optimizer='rmsprop', metrics = ['accuracy'])"
      ],
      "metadata": {
        "id": "QXgbcpFyh6PY"
      },
      "execution_count": null,
      "outputs": []
    },
    {
      "cell_type": "code",
      "source": [
        "X['is_p'] = X['is_p'].apply(lambda x: int(x))\n",
        "y_train = X['is_p']"
      ],
      "metadata": {
        "id": "9VIn9JEGh_Ar"
      },
      "execution_count": null,
      "outputs": []
    },
    {
      "cell_type": "code",
      "source": [
        "history1 = model.fit(X_train, y_train, epochs = 50, batch_size = 32)"
      ],
      "metadata": {
        "id": "2AR5CNvToD_-"
      },
      "execution_count": null,
      "outputs": []
    },
    {
      "cell_type": "code",
      "source": [
        "history2 = model2.fit(X_train, y_train, epochs = 35, batch_size=32)"
      ],
      "metadata": {
        "id": "CIwEiC8_wNhC"
      },
      "execution_count": null,
      "outputs": []
    },
    {
      "cell_type": "code",
      "source": [
        "history3 = model3.fit(X_traing, y_train, epochs = 35, batch_size=32)"
      ],
      "metadata": {
        "id": "fVNqCRA1iBmf"
      },
      "execution_count": null,
      "outputs": []
    },
    {
      "cell_type": "code",
      "source": [
        "history4 = model4.fit(X_traing, y_train, epochs = 50, batch_size=32)"
      ],
      "metadata": {
        "id": "PqK0dHFC3727"
      },
      "execution_count": null,
      "outputs": []
    },
    {
      "cell_type": "markdown",
      "source": [
        "## Plotting Graphs"
      ],
      "metadata": {
        "id": "vjuA983j-bh0"
      }
    },
    {
      "cell_type": "code",
      "source": [
        "import matplotlib.pyplot as plt"
      ],
      "metadata": {
        "id": "22_dbg6U-H1a"
      },
      "execution_count": null,
      "outputs": []
    },
    {
      "cell_type": "code",
      "source": [
        "plt.plot(history1.history['accuracy'])\n",
        "plt.plot(history4.history['accuracy'])\n",
        "plt.title('LSTM model accuracy')\n",
        "plt.ylabel('accuracy')\n",
        "plt.xlabel('epochs')\n",
        "plt.legend(['Wordnet', 'GloVe'], loc='upper left')\n",
        "plt.show()\n",
        "plt.close()"
      ],
      "metadata": {
        "id": "rPzbS4iw-D6F",
        "colab": {
          "base_uri": "https://localhost:8080/",
          "height": 472
        },
        "outputId": "5eaa9a63-8e09-402c-f8dd-d1e729c36229"
      },
      "execution_count": null,
      "outputs": [
        {
          "output_type": "display_data",
          "data": {
            "text/plain": [
              "<Figure size 640x480 with 1 Axes>"
            ],
            "image/png": "[encoded data removed]"
          },
          "metadata": {}
        }
      ]
    },
    {
      "cell_type": "code",
      "source": [
        "plt.plot(history2.history['accuracy'])\n",
        "plt.plot(history3.history['accuracy'])\n",
        "plt.title('CNN model accuracy')\n",
        "plt.ylabel('accuracy')\n",
        "plt.xlabel('epoch')\n",
        "plt.legend(['Wordnet', 'GloVe'], loc='upper left')\n",
        "plt.show()\n",
        "plt.close()"
      ],
      "metadata": {
        "id": "j0yzqcNk-TH0",
        "colab": {
          "base_uri": "https://localhost:8080/",
          "height": 472
        },
        "outputId": "4a5a4bc7-784f-48ee-a8b0-96df5b1373bd"
      },
      "execution_count": null,
      "outputs": [
        {
          "output_type": "display_data",
          "data": {
            "text/plain": [
              "<Figure size 640x480 with 1 Axes>"
            ],
            "image/png": "[encoded data removed]"
          },
          "metadata": {}
        }
      ]
    },
    {
      "cell_type": "markdown",
      "source": [
        "## Testing the model with each dataset separartely"
      ],
      "metadata": {
        "id": "a7zM1WGyI1Zs"
      }
    },
    {
      "cell_type": "code",
      "source": [
        "ms_test['is_p'] = ms_test['is_p'].apply(lambda x: int(x))\n",
        "ms_y = ms_test['is_p']"
      ],
      "metadata": {
        "id": "40-1jV9w_cEF"
      },
      "execution_count": null,
      "outputs": []
    },
    {
      "cell_type": "code",
      "source": [
        "model.evaluate(ms_test1, ms_y)"
      ],
      "metadata": {
        "id": "7pI72n9qkCOB"
      },
      "execution_count": null,
      "outputs": []
    },
    {
      "cell_type": "code",
      "source": [
        "model4.evaluate(ms_testg, ms_y)"
      ],
      "metadata": {
        "id": "yS7GS4Jb_iFA"
      },
      "execution_count": null,
      "outputs": []
    },
    {
      "cell_type": "code",
      "source": [
        "model2.evaluate(ms_test1, ms_y)"
      ],
      "metadata": {
        "id": "TW1luDSCOiDt"
      },
      "execution_count": null,
      "outputs": []
    },
    {
      "cell_type": "code",
      "source": [
        "model3.evaluate(ms_testg, ms_y)"
      ],
      "metadata": {
        "id": "0z4X62ZMOmOz"
      },
      "execution_count": null,
      "outputs": []
    },
    {
      "cell_type": "code",
      "source": [
        "q_test['is_p'] = q_test['is_p'].apply(lambda x: int(x))\n",
        "q_y = q_test['is_p']"
      ],
      "metadata": {
        "id": "qNjWFyPlOzDA"
      },
      "execution_count": null,
      "outputs": []
    },
    {
      "cell_type": "code",
      "source": [
        "model.evaluate(q_test1, q_y[:1000])"
      ],
      "metadata": {
        "id": "SThqm7wwOrWT"
      },
      "execution_count": null,
      "outputs": []
    },
    {
      "cell_type": "code",
      "source": [
        "model4.evaluate(q_testg, q_y[:1000])"
      ],
      "metadata": {
        "id": "IYdn6JmrO86Z"
      },
      "execution_count": null,
      "outputs": []
    },
    {
      "cell_type": "code",
      "source": [
        "model2.evaluate(q_test1, q_y[:1000])"
      ],
      "metadata": {
        "id": "y1Cihh71PAx7"
      },
      "execution_count": null,
      "outputs": []
    },
    {
      "cell_type": "code",
      "source": [
        "model3.evaluate(q_testg, q_y[:1000])"
      ],
      "metadata": {
        "id": "m9qC_6RtPHdu"
      },
      "execution_count": null,
      "outputs": []
    },
    {
      "cell_type": "code",
      "source": [
        "twt_test['is_p'] = twt_test['is_p'].apply(lambda x: int(x))\n",
        "twt_y = twt_test['is_p']"
      ],
      "metadata": {
        "id": "MizfD1MKPKxU"
      },
      "execution_count": null,
      "outputs": []
    },
    {
      "cell_type": "code",
      "source": [
        "model.evaluate(twt_test1, twt_y[:1000])"
      ],
      "metadata": {
        "id": "eOluAqSZIfHH"
      },
      "execution_count": null,
      "outputs": []
    },
    {
      "cell_type": "code",
      "source": [
        "model4.evaluate(twt_testg, twt_y[:1000])"
      ],
      "metadata": {
        "id": "ayB4ZaVbIkJc"
      },
      "execution_count": null,
      "outputs": []
    },
    {
      "cell_type": "code",
      "source": [
        "model2.evaluate(twt_test1, twt_y[:1000])"
      ],
      "metadata": {
        "id": "cttA4_rVIm0R"
      },
      "execution_count": null,
      "outputs": []
    },
    {
      "cell_type": "code",
      "source": [
        "model3.evaluate(twt_testg, twt_y[:1000])"
      ],
      "metadata": {
        "id": "OBy_h_pxIqS2"
      },
      "execution_count": null,
      "outputs": []
    }
  ]
}